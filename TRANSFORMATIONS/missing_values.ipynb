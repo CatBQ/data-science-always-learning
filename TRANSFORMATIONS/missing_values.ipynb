{
 "cells": [
  {
   "cell_type": "markdown",
   "metadata": {},
   "source": [
    "# Handling Missing Data\n",
    "\n",
    "### Introduction\n",
    "Missing data is a common problem in real-world datasets. It can signifcantly impact the performance and accuracy of machine learning models. \n",
    "\n",
    "This guide was set up to walk through the basics of understanding the basics of identifying, understanding, and handling missing data (with some attention towards the imputation of missing values)."
   ]
  },
  {
   "cell_type": "markdown",
   "metadata": {},
   "source": [
    "## Table of Contents\n",
    "\n",
    "1. Identify Missing Data\n",
    "\n",
    "2. Understanding the Impact of Missing Data\n",
    "\n",
    "3. Handling Missing Data\n",
    "    a. Deletion Methods\n",
    "    b. Imputation Methods"
   ]
  }
 ],
 "metadata": {
  "language_info": {
   "name": "python"
  }
 },
 "nbformat": 4,
 "nbformat_minor": 2
}
