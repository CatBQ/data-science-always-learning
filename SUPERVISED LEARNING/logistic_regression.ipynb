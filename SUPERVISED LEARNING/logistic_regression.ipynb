{
 "cells": [
  {
   "cell_type": "markdown",
   "metadata": {},
   "source": [
    "# Logistic Regression 😎"
   ]
  },
  {
   "cell_type": "markdown",
   "metadata": {},
   "source": [
    "## 0. Prerequisites"
   ]
  },
  {
   "cell_type": "code",
   "execution_count": 47,
   "metadata": {},
   "outputs": [
    {
     "name": "stdout",
     "output_type": "stream",
     "text": [
      "libraries imported\n"
     ]
    }
   ],
   "source": [
    "# libraries \n",
    "import pandas as pd\n",
    "import numpy as np\n",
    "\n",
    "import plotly.express as px\n",
    "\n",
    "from plotnine import *\n",
    "\n",
    "print(\"libraries imported\")"
   ]
  },
  {
   "cell_type": "code",
   "execution_count": 48,
   "metadata": {},
   "outputs": [],
   "source": [
    "# sklearn libraries \n",
    "\n",
    "from sklearn.compose import ColumnTransformer\n",
    "\n",
    "from sklearn.discriminant_analysis import StandardScaler\n",
    "from sklearn.preprocessing import OneHotEncoder\n",
    "\n",
    "from sklearn.model_selection import train_test_split\n",
    "from sklearn.pipeline import Pipeline\n",
    "\n",
    "from sklearn.linear_model import LogisticRegression\n",
    "\n",
    "from sklearn.metrics import roc_auc_score, confusion_matrix\n",
    "\n"
   ]
  },
  {
   "cell_type": "markdown",
   "metadata": {},
   "source": [
    "## 1. Background"
   ]
  },
  {
   "cell_type": "markdown",
   "metadata": {},
   "source": [
    "### 1.1 What is Logistic regression? \n",
    "\n",
    "Logistic regression (Logr) is a technique that uses mathematics to find the relationships between two data factors. \n",
    "\n",
    "It then uses this relationship to predict the value of one of those factors based on the other. The prediction usually has a finite number of outcomes, like yes or no. \n",
    "\n",
    "#### 1.1.1 Real Life Example \n",
    "Amazon wants to guess if their website visitor will click on the checkout button in their shopping cart or not. \n",
    "\n",
    "Logistic regression analysis will look at the past visitor behaviour (e.g. time spent on the site and the number of items in the cart). \n",
    "\n",
    "Looking at past behaviour information, the logistic regression can then predict the behaviour of a new website visitor. "
   ]
  },
  {
   "cell_type": "markdown",
   "metadata": {},
   "source": [
    "### 1.2 Why is logistic regression important? \n",
    "\n",
    "ML models built using logistic regression help organisations gain actionable insights from their business data. \n",
    "\n",
    "\n",
    "Some benefits of logr are: \n",
    "\n",
    "#### 1.2.1 Simplicity \n",
    "Logr are mathematically less complex than other ML methods. \n",
    "\n",
    "#### 1.2.2 Speed \n",
    "Logr models can process large volumes of data at high speed because it requires less computational capacity, such as memory and processing power. \n",
    "\n",
    "#### 1.2.3 Flexibility \n",
    "Use logr to find answers that have 2 or more finite outcomes. \n",
    "\n",
    "#### 1.2.4 Visibility \n",
    "Data Scientists have greater visibility into internal software processes than other data analysis techniques. It's easier to troubleshoot due to calculations being less complex. "
   ]
  },
  {
   "cell_type": "markdown",
   "metadata": {},
   "source": [
    "### 1.3 How does it work? \n",
    "\n",
    "#### 1.3.1 Mathematics of Logistic Regression\n",
    "\n",
    "• Logistic Regression (LR) Process:\n",
    "  - Combines input features using linear combination\n",
    "  - Produces a logit\n",
    "  - Transforms logit into probability using logistic function\n",
    "\n",
    "\\begin{equation}\n",
    "\\text{logit}(p) = \\log\\left(\\frac{p}{1-p}\\right)\n",
    "\\end{equation}\n",
    "\n",
    "  - Probability range: 0 to 1\n",
    "\n",
    "• Model Learning:\n",
    "  - LR learns coefficients (weights) for each feature\n",
    "  - Coefficients determine feature contribution to logit\n",
    "  - Uses optimization algorithm\n",
    "  - Goal: Maximize likelihood of observed data\n",
    "  - Typically uses maximum likelihood estimation\n",
    "  - Iterative process to find best fit\n",
    "\n",
    "• Making Predictions:\n",
    "  - Apply learned coefficients to new data\n",
    "  - Calculate logit for new sample\n",
    "  - Transform logit to probability using logistic function\n",
    "  - Make prediction based on probability\n",
    "\n",
    "• Classification Rule:\n",
    "  - If probability > 0.5: Predict positive class\n",
    "  - If probability < 0.5: Predict negative class\n",
    "\n",
    "\n",
    "#### 1.3.2 Logistic regression: types\n",
    "\n",
    "##### Binary regression \n",
    "* use it for binary classifical problems\n",
    "* the dependent variable can only have two values (yes or no; 0 and 1)\n",
    "* the binary regression model rounds the answer to the closest values\n",
    "\n",
    "##### Multinomial Logistic regression\n",
    "* use it for problems with several possible outcomes \n",
    "* e.g. predict if house prices will increase by 25%, 50%, or 100% based on population data but it does not predict the exact value of the house\n",
    "* multinomial logistic regression works by mapping outcome values to different values between 0 and 1\n",
    "* logistic function can return a range of continuous data, so the multimomial regression groups the output to the closest values \n",
    "\n",
    "##### Ordinal logistic regression  \n",
    "* specific type of multinomial regression \n",
    "* used in problems in which the numbers represent ranks rather than actial values \n",
    "* example: understand what factors influence students' satisfaction (very unsastified; unsastified; neutral; etc) with their overall educational experience by conducting a survey.  Data Scientists use ordinal logistic regression to analyze how each predictor affects the likelihood of a student being in a higher satisfaction category (class size; quality of teaching; campus).\n",
    "* helps understand the relationship between multiple predictors and the likelihood of different ordered outcomes.\n"
   ]
  },
  {
   "cell_type": "markdown",
   "metadata": {},
   "source": [
    "## 2. Read the Data"
   ]
  },
  {
   "cell_type": "code",
   "execution_count": 49,
   "metadata": {},
   "outputs": [
    {
     "data": {
      "text/html": [
       "<div>\n",
       "<style scoped>\n",
       "    .dataframe tbody tr th:only-of-type {\n",
       "        vertical-align: middle;\n",
       "    }\n",
       "\n",
       "    .dataframe tbody tr th {\n",
       "        vertical-align: top;\n",
       "    }\n",
       "\n",
       "    .dataframe thead th {\n",
       "        text-align: right;\n",
       "    }\n",
       "</style>\n",
       "<table border=\"1\" class=\"dataframe\">\n",
       "  <thead>\n",
       "    <tr style=\"text-align: right;\">\n",
       "      <th></th>\n",
       "      <th>abilities</th>\n",
       "      <th>against_bug</th>\n",
       "      <th>against_dark</th>\n",
       "      <th>against_dragon</th>\n",
       "      <th>against_electric</th>\n",
       "      <th>against_fairy</th>\n",
       "      <th>against_fight</th>\n",
       "      <th>against_fire</th>\n",
       "      <th>against_flying</th>\n",
       "      <th>against_ghost</th>\n",
       "      <th>...</th>\n",
       "      <th>percentage_male</th>\n",
       "      <th>pokedex_number</th>\n",
       "      <th>sp_attack</th>\n",
       "      <th>sp_defense</th>\n",
       "      <th>speed</th>\n",
       "      <th>type1</th>\n",
       "      <th>type2</th>\n",
       "      <th>weight_kg</th>\n",
       "      <th>generation</th>\n",
       "      <th>is_legendary</th>\n",
       "    </tr>\n",
       "  </thead>\n",
       "  <tbody>\n",
       "    <tr>\n",
       "      <th>0</th>\n",
       "      <td>['Overgrow', 'Chlorophyll']</td>\n",
       "      <td>1.0</td>\n",
       "      <td>1.0</td>\n",
       "      <td>1.0</td>\n",
       "      <td>0.5</td>\n",
       "      <td>0.5</td>\n",
       "      <td>0.5</td>\n",
       "      <td>2.0</td>\n",
       "      <td>2.0</td>\n",
       "      <td>1.0</td>\n",
       "      <td>...</td>\n",
       "      <td>88.1</td>\n",
       "      <td>1</td>\n",
       "      <td>65</td>\n",
       "      <td>65</td>\n",
       "      <td>45</td>\n",
       "      <td>grass</td>\n",
       "      <td>poison</td>\n",
       "      <td>6.9</td>\n",
       "      <td>1</td>\n",
       "      <td>0</td>\n",
       "    </tr>\n",
       "    <tr>\n",
       "      <th>1</th>\n",
       "      <td>['Overgrow', 'Chlorophyll']</td>\n",
       "      <td>1.0</td>\n",
       "      <td>1.0</td>\n",
       "      <td>1.0</td>\n",
       "      <td>0.5</td>\n",
       "      <td>0.5</td>\n",
       "      <td>0.5</td>\n",
       "      <td>2.0</td>\n",
       "      <td>2.0</td>\n",
       "      <td>1.0</td>\n",
       "      <td>...</td>\n",
       "      <td>88.1</td>\n",
       "      <td>2</td>\n",
       "      <td>80</td>\n",
       "      <td>80</td>\n",
       "      <td>60</td>\n",
       "      <td>grass</td>\n",
       "      <td>poison</td>\n",
       "      <td>13.0</td>\n",
       "      <td>1</td>\n",
       "      <td>0</td>\n",
       "    </tr>\n",
       "    <tr>\n",
       "      <th>2</th>\n",
       "      <td>['Overgrow', 'Chlorophyll']</td>\n",
       "      <td>1.0</td>\n",
       "      <td>1.0</td>\n",
       "      <td>1.0</td>\n",
       "      <td>0.5</td>\n",
       "      <td>0.5</td>\n",
       "      <td>0.5</td>\n",
       "      <td>2.0</td>\n",
       "      <td>2.0</td>\n",
       "      <td>1.0</td>\n",
       "      <td>...</td>\n",
       "      <td>88.1</td>\n",
       "      <td>3</td>\n",
       "      <td>122</td>\n",
       "      <td>120</td>\n",
       "      <td>80</td>\n",
       "      <td>grass</td>\n",
       "      <td>poison</td>\n",
       "      <td>100.0</td>\n",
       "      <td>1</td>\n",
       "      <td>0</td>\n",
       "    </tr>\n",
       "    <tr>\n",
       "      <th>3</th>\n",
       "      <td>['Blaze', 'Solar Power']</td>\n",
       "      <td>0.5</td>\n",
       "      <td>1.0</td>\n",
       "      <td>1.0</td>\n",
       "      <td>1.0</td>\n",
       "      <td>0.5</td>\n",
       "      <td>1.0</td>\n",
       "      <td>0.5</td>\n",
       "      <td>1.0</td>\n",
       "      <td>1.0</td>\n",
       "      <td>...</td>\n",
       "      <td>88.1</td>\n",
       "      <td>4</td>\n",
       "      <td>60</td>\n",
       "      <td>50</td>\n",
       "      <td>65</td>\n",
       "      <td>fire</td>\n",
       "      <td>NaN</td>\n",
       "      <td>8.5</td>\n",
       "      <td>1</td>\n",
       "      <td>0</td>\n",
       "    </tr>\n",
       "    <tr>\n",
       "      <th>4</th>\n",
       "      <td>['Blaze', 'Solar Power']</td>\n",
       "      <td>0.5</td>\n",
       "      <td>1.0</td>\n",
       "      <td>1.0</td>\n",
       "      <td>1.0</td>\n",
       "      <td>0.5</td>\n",
       "      <td>1.0</td>\n",
       "      <td>0.5</td>\n",
       "      <td>1.0</td>\n",
       "      <td>1.0</td>\n",
       "      <td>...</td>\n",
       "      <td>88.1</td>\n",
       "      <td>5</td>\n",
       "      <td>80</td>\n",
       "      <td>65</td>\n",
       "      <td>80</td>\n",
       "      <td>fire</td>\n",
       "      <td>NaN</td>\n",
       "      <td>19.0</td>\n",
       "      <td>1</td>\n",
       "      <td>0</td>\n",
       "    </tr>\n",
       "  </tbody>\n",
       "</table>\n",
       "<p>5 rows × 41 columns</p>\n",
       "</div>"
      ],
      "text/plain": [
       "                     abilities  against_bug  against_dark  against_dragon  \\\n",
       "0  ['Overgrow', 'Chlorophyll']          1.0           1.0             1.0   \n",
       "1  ['Overgrow', 'Chlorophyll']          1.0           1.0             1.0   \n",
       "2  ['Overgrow', 'Chlorophyll']          1.0           1.0             1.0   \n",
       "3     ['Blaze', 'Solar Power']          0.5           1.0             1.0   \n",
       "4     ['Blaze', 'Solar Power']          0.5           1.0             1.0   \n",
       "\n",
       "   against_electric  against_fairy  against_fight  against_fire  \\\n",
       "0               0.5            0.5            0.5           2.0   \n",
       "1               0.5            0.5            0.5           2.0   \n",
       "2               0.5            0.5            0.5           2.0   \n",
       "3               1.0            0.5            1.0           0.5   \n",
       "4               1.0            0.5            1.0           0.5   \n",
       "\n",
       "   against_flying  against_ghost  ...  percentage_male  pokedex_number  \\\n",
       "0             2.0            1.0  ...             88.1               1   \n",
       "1             2.0            1.0  ...             88.1               2   \n",
       "2             2.0            1.0  ...             88.1               3   \n",
       "3             1.0            1.0  ...             88.1               4   \n",
       "4             1.0            1.0  ...             88.1               5   \n",
       "\n",
       "   sp_attack  sp_defense  speed  type1   type2  weight_kg  generation  \\\n",
       "0         65          65     45  grass  poison        6.9           1   \n",
       "1         80          80     60  grass  poison       13.0           1   \n",
       "2        122         120     80  grass  poison      100.0           1   \n",
       "3         60          50     65   fire     NaN        8.5           1   \n",
       "4         80          65     80   fire     NaN       19.0           1   \n",
       "\n",
       "   is_legendary  \n",
       "0             0  \n",
       "1             0  \n",
       "2             0  \n",
       "3             0  \n",
       "4             0  \n",
       "\n",
       "[5 rows x 41 columns]"
      ]
     },
     "execution_count": 49,
     "metadata": {},
     "output_type": "execute_result"
    }
   ],
   "source": [
    "df = pd.read_csv('/Users/cat.barbosa/Library/CloudStorage/OneDrive-MCO/L&D/Coursera_ML/Datasets/pokemon.csv')\n",
    "\n",
    "df.head()"
   ]
  },
  {
   "cell_type": "code",
   "execution_count": 50,
   "metadata": {},
   "outputs": [
    {
     "data": {
      "text/plain": [
       "(801, 41)"
      ]
     },
     "execution_count": 50,
     "metadata": {},
     "output_type": "execute_result"
    }
   ],
   "source": [
    "df.shape"
   ]
  },
  {
   "cell_type": "code",
   "execution_count": 51,
   "metadata": {},
   "outputs": [
    {
     "data": {
      "text/plain": [
       "abilities             object\n",
       "against_bug          float64\n",
       "against_dark         float64\n",
       "against_dragon       float64\n",
       "against_electric     float64\n",
       "against_fairy        float64\n",
       "against_fight        float64\n",
       "against_fire         float64\n",
       "against_flying       float64\n",
       "against_ghost        float64\n",
       "against_grass        float64\n",
       "against_ground       float64\n",
       "against_ice          float64\n",
       "against_normal       float64\n",
       "against_poison       float64\n",
       "against_psychic      float64\n",
       "against_rock         float64\n",
       "against_steel        float64\n",
       "against_water        float64\n",
       "attack                 int64\n",
       "base_egg_steps         int64\n",
       "base_happiness         int64\n",
       "base_total             int64\n",
       "capture_rate          object\n",
       "classfication         object\n",
       "defense                int64\n",
       "experience_growth      int64\n",
       "height_m             float64\n",
       "hp                     int64\n",
       "japanese_name         object\n",
       "name                  object\n",
       "percentage_male      float64\n",
       "pokedex_number         int64\n",
       "sp_attack              int64\n",
       "sp_defense             int64\n",
       "speed                  int64\n",
       "type1                 object\n",
       "type2                 object\n",
       "weight_kg            float64\n",
       "generation             int64\n",
       "is_legendary           int64\n",
       "dtype: object"
      ]
     },
     "execution_count": 51,
     "metadata": {},
     "output_type": "execute_result"
    }
   ],
   "source": [
    "df.dtypes"
   ]
  },
  {
   "cell_type": "markdown",
   "metadata": {},
   "source": [
    "## 3. Pokemon dataset - data cleaning "
   ]
  },
  {
   "cell_type": "markdown",
   "metadata": {},
   "source": [
    "### 3.1 Data Properties"
   ]
  },
  {
   "cell_type": "markdown",
   "metadata": {},
   "source": [
    "#### 3.1.1 Missing Data Count "
   ]
  },
  {
   "cell_type": "code",
   "execution_count": 52,
   "metadata": {},
   "outputs": [
    {
     "data": {
      "text/plain": [
       "height_m            20\n",
       "percentage_male     98\n",
       "type2              384\n",
       "weight_kg           20\n",
       "dtype: int64"
      ]
     },
     "execution_count": 52,
     "metadata": {},
     "output_type": "execute_result"
    }
   ],
   "source": [
    "# columns with missing data \n",
    "df.isnull().sum().loc[lambda x: x >= 1]"
   ]
  },
  {
   "cell_type": "markdown",
   "metadata": {},
   "source": [
    "#### 3.1.2 Duplicates "
   ]
  },
  {
   "cell_type": "code",
   "execution_count": 53,
   "metadata": {},
   "outputs": [
    {
     "data": {
      "text/plain": [
       "True"
      ]
     },
     "execution_count": 53,
     "metadata": {},
     "output_type": "execute_result"
    }
   ],
   "source": [
    "# name could be an unique identifier \n",
    "sum(df.duplicated(subset= 'name')) == 0 "
   ]
  },
  {
   "cell_type": "markdown",
   "metadata": {},
   "source": [
    "#### 3.1.3 Columns"
   ]
  },
  {
   "cell_type": "code",
   "execution_count": 54,
   "metadata": {},
   "outputs": [
    {
     "data": {
      "text/plain": [
       "Index(['abilities', 'against_bug', 'against_dark', 'against_dragon',\n",
       "       'against_electric', 'against_fairy', 'against_fight', 'against_fire',\n",
       "       'against_flying', 'against_ghost', 'against_grass', 'against_ground',\n",
       "       'against_ice', 'against_normal', 'against_poison', 'against_psychic',\n",
       "       'against_rock', 'against_steel', 'against_water', 'attack',\n",
       "       'base_egg_steps', 'base_happiness', 'base_total', 'capture_rate',\n",
       "       'classfication', 'defense', 'experience_growth', 'height_m', 'hp',\n",
       "       'japanese_name', 'name', 'percentage_male', 'pokedex_number',\n",
       "       'sp_attack', 'sp_defense', 'speed', 'type1', 'type2', 'weight_kg',\n",
       "       'generation', 'is_legendary'],\n",
       "      dtype='object')"
      ]
     },
     "execution_count": 54,
     "metadata": {},
     "output_type": "execute_result"
    }
   ],
   "source": [
    "df.columns"
   ]
  },
  {
   "cell_type": "markdown",
   "metadata": {},
   "source": [
    "### 3.2 Copy of original dataset"
   ]
  },
  {
   "cell_type": "code",
   "execution_count": 55,
   "metadata": {},
   "outputs": [],
   "source": [
    "raw_data = df.copy()"
   ]
  },
  {
   "cell_type": "markdown",
   "metadata": {},
   "source": [
    "### 3.3 Drop columns from dataset \n",
    "\n",
    "Number of columns will be dropped - simplify the data analysis "
   ]
  },
  {
   "cell_type": "code",
   "execution_count": 56,
   "metadata": {},
   "outputs": [
    {
     "data": {
      "text/plain": [
       "Index(['attack', 'base_egg_steps', 'base_happiness', 'base_total',\n",
       "       'capture_rate', 'classfication', 'defense', 'experience_growth',\n",
       "       'sp_attack', 'sp_defense', 'speed', 'type1', 'generation',\n",
       "       'is_legendary'],\n",
       "      dtype='object')"
      ]
     },
     "execution_count": 56,
     "metadata": {},
     "output_type": "execute_result"
    }
   ],
   "source": [
    "dropped_col_list = [\n",
    "          'abilities', 'against_bug', 'against_dark', 'against_dragon',\n",
    "       'against_electric', 'against_fairy', 'against_fight', 'against_fire',\n",
    "       'against_flying', 'against_ghost', 'against_grass', 'against_ground',\n",
    "       'against_ice', 'against_normal', 'against_poison', 'against_psychic',\n",
    "       'against_rock', 'against_steel', 'against_water',  'height_m', 'hp',\n",
    "       'japanese_name', 'name', 'percentage_male', 'pokedex_number',\n",
    "       'type2', 'weight_kg'\n",
    "]\n",
    "\n",
    "df = df.drop(columns= dropped_col_list )\n",
    "\n",
    "df.columns"
   ]
  },
  {
   "cell_type": "code",
   "execution_count": null,
   "metadata": {},
   "outputs": [],
   "source": []
  },
  {
   "cell_type": "markdown",
   "metadata": {},
   "source": [
    "### 3.4 Data Viz"
   ]
  },
  {
   "cell_type": "markdown",
   "metadata": {},
   "source": [
    "#### 3.4.1 Bar Chart - DV "
   ]
  },
  {
   "cell_type": "code",
   "execution_count": 57,
   "metadata": {},
   "outputs": [
    {
     "data": {
      "text/html": [
       "<div>\n",
       "<style scoped>\n",
       "    .dataframe tbody tr th:only-of-type {\n",
       "        vertical-align: middle;\n",
       "    }\n",
       "\n",
       "    .dataframe tbody tr th {\n",
       "        vertical-align: top;\n",
       "    }\n",
       "\n",
       "    .dataframe thead th {\n",
       "        text-align: right;\n",
       "    }\n",
       "</style>\n",
       "<table border=\"1\" class=\"dataframe\">\n",
       "  <thead>\n",
       "    <tr style=\"text-align: right;\">\n",
       "      <th></th>\n",
       "      <th>is_legendary</th>\n",
       "      <th>count</th>\n",
       "    </tr>\n",
       "  </thead>\n",
       "  <tbody>\n",
       "    <tr>\n",
       "      <th>0</th>\n",
       "      <td>0</td>\n",
       "      <td>731</td>\n",
       "    </tr>\n",
       "    <tr>\n",
       "      <th>1</th>\n",
       "      <td>1</td>\n",
       "      <td>70</td>\n",
       "    </tr>\n",
       "  </tbody>\n",
       "</table>\n",
       "</div>"
      ],
      "text/plain": [
       "   is_legendary  count\n",
       "0             0    731\n",
       "1             1     70"
      ]
     },
     "execution_count": 57,
     "metadata": {},
     "output_type": "execute_result"
    }
   ],
   "source": [
    "# is_legendary \n",
    "\n",
    "legendary_count = df['is_legendary'].value_counts()\n",
    "legendary_df = legendary_count.reset_index()\n",
    "legendary_df.columns = ['is_legendary', 'count']\n",
    "\n",
    "legendary_df\n",
    "\n"
   ]
  },
  {
   "cell_type": "code",
   "execution_count": 58,
   "metadata": {},
   "outputs": [],
   "source": [
    "import plotly.io as pio\n",
    "\n",
    "# Set the default renderer to 'browser' for VS Code\n",
    "pio.renderers.default = 'browser'\n",
    "\n",
    "# Create and display the plot\n",
    "fig1 = px.bar(\n",
    "    legendary_df,\n",
    "    x='is_legendary',\n",
    "    y='count',\n",
    "    title='Number of Legendary and Non-Legendary Pokémon',\n",
    "    labels={'is_legendary': 'Legendary Status', 'count': 'Number of Pokémon'}\n",
    ")\n",
    "fig1.show()\n"
   ]
  },
  {
   "cell_type": "code",
   "execution_count": 59,
   "metadata": {},
   "outputs": [
    {
     "data": {
      "image/png": "[encoded data removed]"
     },
     "metadata": {
      "image/png": {
       "height": 300,
       "width": 400
      }
     },
     "output_type": "display_data"
    }
   ],
   "source": [
    "# static chart \n",
    "\n",
    "plot = (\n",
    "          ggplot(df) + geom_bar(aes(x='is_legendary')) + theme(figure_size=(4,3))\n",
    "          )\n",
    "\n",
    "plot.show()"
   ]
  },
  {
   "cell_type": "markdown",
   "metadata": {},
   "source": [
    "#### 3.4.2 Heatmap: Correlation "
   ]
  },
  {
   "cell_type": "code",
   "execution_count": 60,
   "metadata": {},
   "outputs": [
    {
     "name": "stdout",
     "output_type": "stream",
     "text": [
      "                     attack  base_egg_steps  base_happiness  base_total  \\\n",
      "attack             1.000000        0.331088       -0.251811    0.730134   \n",
      "base_egg_steps     0.331088        1.000000       -0.524551    0.496466   \n",
      "base_happiness    -0.251811       -0.524551        1.000000   -0.274795   \n",
      "base_total         0.730134        0.496466       -0.274795    1.000000   \n",
      "defense            0.468915        0.265230       -0.191503    0.629620   \n",
      "experience_growth  0.241087        0.373837       -0.295348    0.256930   \n",
      "sp_attack          0.368154        0.404477       -0.228924    0.741120   \n",
      "sp_defense         0.265836        0.335404       -0.149719    0.717434   \n",
      "speed              0.352703        0.289447       -0.148753    0.547666   \n",
      "generation         0.101375        0.128941       -0.115974    0.084358   \n",
      "is_legendary       0.303295        0.873488       -0.413108    0.485440   \n",
      "\n",
      "                    defense  experience_growth  sp_attack  sp_defense  \\\n",
      "attack             0.468915           0.241087   0.368154    0.265836   \n",
      "base_egg_steps     0.265230           0.373837   0.404477    0.335404   \n",
      "base_happiness    -0.191503          -0.295348  -0.228924   -0.149719   \n",
      "base_total         0.629620           0.256930   0.741120    0.717434   \n",
      "defense            1.000000           0.129698   0.241882    0.526348   \n",
      "experience_growth  0.129698           1.000000   0.201603    0.088806   \n",
      "sp_attack          0.241882           0.201603   1.000000    0.511496   \n",
      "sp_defense         0.526348           0.088806   0.511496    1.000000   \n",
      "speed              0.007934           0.144946   0.438981    0.225977   \n",
      "generation         0.057603           0.052530   0.070146    0.048711   \n",
      "is_legendary       0.265587           0.361038   0.406281    0.343241   \n",
      "\n",
      "                      speed  generation  is_legendary  \n",
      "attack             0.352703    0.101375      0.303295  \n",
      "base_egg_steps     0.289447    0.128941      0.873488  \n",
      "base_happiness    -0.148753   -0.115974     -0.413108  \n",
      "base_total         0.547666    0.084358      0.485440  \n",
      "defense            0.007934    0.057603      0.265587  \n",
      "experience_growth  0.144946    0.052530      0.361038  \n",
      "sp_attack          0.438981    0.070146      0.406281  \n",
      "sp_defense         0.225977    0.048711      0.343241  \n",
      "speed              1.000000   -0.019914      0.311639  \n",
      "generation        -0.019914    1.000000      0.139029  \n",
      "is_legendary       0.311639    0.139029      1.000000  \n"
     ]
    }
   ],
   "source": [
    "corr_matrix = df.corr( numeric_only=True)\n",
    "\n",
    "print(corr_matrix)"
   ]
  },
  {
   "cell_type": "code",
   "execution_count": 61,
   "metadata": {},
   "outputs": [],
   "source": [
    "# heatmap \n",
    "\n",
    "fig2 = px.imshow(\n",
    "          corr_matrix, \n",
    "          text_auto=True,\n",
    "          aspect='auto'\n",
    ")\n",
    "\n",
    "fig2.show()"
   ]
  },
  {
   "cell_type": "markdown",
   "metadata": {},
   "source": [
    "### 3.5 Data Transformation"
   ]
  },
  {
   "cell_type": "code",
   "execution_count": 62,
   "metadata": {},
   "outputs": [
    {
     "name": "stdout",
     "output_type": "stream",
     "text": [
      "<class 'pandas.core.frame.DataFrame'>\n",
      "RangeIndex: 801 entries, 0 to 800\n",
      "Data columns (total 14 columns):\n",
      " #   Column             Non-Null Count  Dtype \n",
      "---  ------             --------------  ----- \n",
      " 0   attack             801 non-null    int64 \n",
      " 1   base_egg_steps     801 non-null    int64 \n",
      " 2   base_happiness     801 non-null    int64 \n",
      " 3   base_total         801 non-null    int64 \n",
      " 4   capture_rate       801 non-null    object\n",
      " 5   classfication      801 non-null    object\n",
      " 6   defense            801 non-null    int64 \n",
      " 7   experience_growth  801 non-null    int64 \n",
      " 8   sp_attack          801 non-null    int64 \n",
      " 9   sp_defense         801 non-null    int64 \n",
      " 10  speed              801 non-null    int64 \n",
      " 11  type1              801 non-null    object\n",
      " 12  generation         801 non-null    int64 \n",
      " 13  is_legendary       801 non-null    int64 \n",
      "dtypes: int64(11), object(3)\n",
      "memory usage: 87.7+ KB\n"
     ]
    }
   ],
   "source": [
    "df.info()"
   ]
  },
  {
   "cell_type": "code",
   "execution_count": 63,
   "metadata": {},
   "outputs": [
    {
     "name": "stdout",
     "output_type": "stream",
     "text": [
      "  capture_rate   classfication  type1\n",
      "0           45    Seed Pokémon  grass\n",
      "1           45    Seed Pokémon  grass\n",
      "2           45    Seed Pokémon  grass\n",
      "3           45  Lizard Pokémon   fire\n",
      "4           45   Flame Pokémon   fire\n",
      "5           45   Flame Pokémon   fire\n"
     ]
    }
   ],
   "source": [
    "object_columns = ['capture_rate', 'classfication', 'type1']\n",
    "\n",
    "rows6 = df.loc[:, object_columns].iloc[:6]\n",
    "\n",
    "print(rows6)"
   ]
  },
  {
   "cell_type": "code",
   "execution_count": 64,
   "metadata": {},
   "outputs": [
    {
     "data": {
      "text/plain": [
       "array(['45', '255', '120', '127', '90', '190', '75', '235', '150', '25',\n",
       "       '170', '50', '200', '100', '180', '60', '225', '30', '35', '3',\n",
       "       '65', '70', '125', '205', '155', '145', '130', '140', '15', '220',\n",
       "       '160', '80', '55', '30 (Meteorite)255 (Core)'], dtype=object)"
      ]
     },
     "execution_count": 64,
     "metadata": {},
     "output_type": "execute_result"
    }
   ],
   "source": [
    "df.capture_rate.unique()"
   ]
  },
  {
   "cell_type": "markdown",
   "metadata": {},
   "source": [
    "After reviewing the dataset and the capture_rate column, I noticed that there is only 1 cell with the string '30 (Meteorite)255 (Core)'. Considering the pokemon is a metheor pokemon, I will change the cell value to 30. "
   ]
  },
  {
   "cell_type": "code",
   "execution_count": 65,
   "metadata": {},
   "outputs": [
    {
     "name": "stdout",
     "output_type": "stream",
     "text": [
      "[ 45 255 120 127  90 190  75 235 150  25 170  50 200 100 180  60 225  30\n",
      "  35   3  65  70 125 205 155 145 130 140  15 220 160  80  55]\n",
      "attack                int64\n",
      "base_egg_steps        int64\n",
      "base_happiness        int64\n",
      "base_total            int64\n",
      "capture_rate          int64\n",
      "classfication        object\n",
      "defense               int64\n",
      "experience_growth     int64\n",
      "sp_attack             int64\n",
      "sp_defense            int64\n",
      "speed                 int64\n",
      "type1                object\n",
      "generation            int64\n",
      "is_legendary          int64\n",
      "dtype: object\n"
     ]
    }
   ],
   "source": [
    "# relace the string\n",
    "df['capture_rate'] = df['capture_rate'].replace('30 (Meteorite)255 (Core)', '30')\n",
    "\n",
    "# change capture_rate to numeric\n",
    "df['capture_rate'] = pd.to_numeric(df['capture_rate'])\n",
    "\n",
    "print(df.capture_rate.unique())\n",
    "\n",
    "print(df.dtypes)"
   ]
  },
  {
   "cell_type": "markdown",
   "metadata": {},
   "source": [
    "#### 3.5.1 Train-Test Split"
   ]
  },
  {
   "cell_type": "code",
   "execution_count": 66,
   "metadata": {},
   "outputs": [],
   "source": [
    "# features and target \n",
    "X = df.iloc[:, :-1]\n",
    "\n",
    "y = df.iloc[:, -1]\n",
    "\n",
    "# split the dataset\n",
    "X_train, X_test, y_train, y_test = train_test_split(X, y, test_size=0.2, random_state= 42)"
   ]
  },
  {
   "cell_type": "code",
   "execution_count": 67,
   "metadata": {},
   "outputs": [
    {
     "data": {
      "text/html": [
       "<div>\n",
       "<style scoped>\n",
       "    .dataframe tbody tr th:only-of-type {\n",
       "        vertical-align: middle;\n",
       "    }\n",
       "\n",
       "    .dataframe tbody tr th {\n",
       "        vertical-align: top;\n",
       "    }\n",
       "\n",
       "    .dataframe thead th {\n",
       "        text-align: right;\n",
       "    }\n",
       "</style>\n",
       "<table border=\"1\" class=\"dataframe\">\n",
       "  <thead>\n",
       "    <tr style=\"text-align: right;\">\n",
       "      <th></th>\n",
       "      <th>attack</th>\n",
       "      <th>base_egg_steps</th>\n",
       "      <th>base_happiness</th>\n",
       "      <th>base_total</th>\n",
       "      <th>capture_rate</th>\n",
       "      <th>classfication</th>\n",
       "      <th>defense</th>\n",
       "      <th>experience_growth</th>\n",
       "      <th>sp_attack</th>\n",
       "      <th>sp_defense</th>\n",
       "      <th>speed</th>\n",
       "      <th>type1</th>\n",
       "      <th>generation</th>\n",
       "    </tr>\n",
       "  </thead>\n",
       "  <tbody>\n",
       "    <tr>\n",
       "      <th>697</th>\n",
       "      <td>59</td>\n",
       "      <td>7680</td>\n",
       "      <td>70</td>\n",
       "      <td>362</td>\n",
       "      <td>45</td>\n",
       "      <td>Tundra Pokémon</td>\n",
       "      <td>50</td>\n",
       "      <td>1000000</td>\n",
       "      <td>67</td>\n",
       "      <td>63</td>\n",
       "      <td>46</td>\n",
       "      <td>rock</td>\n",
       "      <td>6</td>\n",
       "    </tr>\n",
       "    <tr>\n",
       "      <th>668</th>\n",
       "      <td>38</td>\n",
       "      <td>5120</td>\n",
       "      <td>70</td>\n",
       "      <td>303</td>\n",
       "      <td>225</td>\n",
       "      <td>Single Bloom Pokémon</td>\n",
       "      <td>39</td>\n",
       "      <td>1000000</td>\n",
       "      <td>61</td>\n",
       "      <td>79</td>\n",
       "      <td>42</td>\n",
       "      <td>fairy</td>\n",
       "      <td>6</td>\n",
       "    </tr>\n",
       "    <tr>\n",
       "      <th>63</th>\n",
       "      <td>35</td>\n",
       "      <td>5120</td>\n",
       "      <td>70</td>\n",
       "      <td>400</td>\n",
       "      <td>100</td>\n",
       "      <td>Psi Pokémon</td>\n",
       "      <td>30</td>\n",
       "      <td>1059860</td>\n",
       "      <td>120</td>\n",
       "      <td>70</td>\n",
       "      <td>105</td>\n",
       "      <td>psychic</td>\n",
       "      <td>1</td>\n",
       "    </tr>\n",
       "    <tr>\n",
       "      <th>534</th>\n",
       "      <td>50</td>\n",
       "      <td>5120</td>\n",
       "      <td>70</td>\n",
       "      <td>294</td>\n",
       "      <td>255</td>\n",
       "      <td>Tadpole Pokémon</td>\n",
       "      <td>40</td>\n",
       "      <td>1059860</td>\n",
       "      <td>50</td>\n",
       "      <td>40</td>\n",
       "      <td>64</td>\n",
       "      <td>water</td>\n",
       "      <td>5</td>\n",
       "    </tr>\n",
       "    <tr>\n",
       "      <th>66</th>\n",
       "      <td>100</td>\n",
       "      <td>5120</td>\n",
       "      <td>70</td>\n",
       "      <td>405</td>\n",
       "      <td>90</td>\n",
       "      <td>Superpower Pokémon</td>\n",
       "      <td>70</td>\n",
       "      <td>1059860</td>\n",
       "      <td>50</td>\n",
       "      <td>60</td>\n",
       "      <td>45</td>\n",
       "      <td>fighting</td>\n",
       "      <td>1</td>\n",
       "    </tr>\n",
       "    <tr>\n",
       "      <th>...</th>\n",
       "      <td>...</td>\n",
       "      <td>...</td>\n",
       "      <td>...</td>\n",
       "      <td>...</td>\n",
       "      <td>...</td>\n",
       "      <td>...</td>\n",
       "      <td>...</td>\n",
       "      <td>...</td>\n",
       "      <td>...</td>\n",
       "      <td>...</td>\n",
       "      <td>...</td>\n",
       "      <td>...</td>\n",
       "      <td>...</td>\n",
       "    </tr>\n",
       "    <tr>\n",
       "      <th>799</th>\n",
       "      <td>107</td>\n",
       "      <td>30720</td>\n",
       "      <td>0</td>\n",
       "      <td>600</td>\n",
       "      <td>3</td>\n",
       "      <td>Prism Pokémon</td>\n",
       "      <td>101</td>\n",
       "      <td>1250000</td>\n",
       "      <td>127</td>\n",
       "      <td>89</td>\n",
       "      <td>79</td>\n",
       "      <td>psychic</td>\n",
       "      <td>7</td>\n",
       "    </tr>\n",
       "    <tr>\n",
       "      <th>745</th>\n",
       "      <td>140</td>\n",
       "      <td>3840</td>\n",
       "      <td>70</td>\n",
       "      <td>620</td>\n",
       "      <td>60</td>\n",
       "      <td>Small Fry Pokémon</td>\n",
       "      <td>130</td>\n",
       "      <td>800000</td>\n",
       "      <td>140</td>\n",
       "      <td>135</td>\n",
       "      <td>30</td>\n",
       "      <td>water</td>\n",
       "      <td>7</td>\n",
       "    </tr>\n",
       "    <tr>\n",
       "      <th>513</th>\n",
       "      <td>98</td>\n",
       "      <td>5120</td>\n",
       "      <td>70</td>\n",
       "      <td>498</td>\n",
       "      <td>75</td>\n",
       "      <td>Ember Pokémon</td>\n",
       "      <td>63</td>\n",
       "      <td>1000000</td>\n",
       "      <td>98</td>\n",
       "      <td>63</td>\n",
       "      <td>101</td>\n",
       "      <td>fire</td>\n",
       "      <td>5</td>\n",
       "    </tr>\n",
       "    <tr>\n",
       "      <th>671</th>\n",
       "      <td>65</td>\n",
       "      <td>5120</td>\n",
       "      <td>70</td>\n",
       "      <td>350</td>\n",
       "      <td>200</td>\n",
       "      <td>Mount Pokémon</td>\n",
       "      <td>48</td>\n",
       "      <td>1000000</td>\n",
       "      <td>62</td>\n",
       "      <td>57</td>\n",
       "      <td>52</td>\n",
       "      <td>grass</td>\n",
       "      <td>6</td>\n",
       "    </tr>\n",
       "    <tr>\n",
       "      <th>264</th>\n",
       "      <td>45</td>\n",
       "      <td>3840</td>\n",
       "      <td>70</td>\n",
       "      <td>195</td>\n",
       "      <td>255</td>\n",
       "      <td>Worm Pokémon</td>\n",
       "      <td>35</td>\n",
       "      <td>1000000</td>\n",
       "      <td>20</td>\n",
       "      <td>30</td>\n",
       "      <td>20</td>\n",
       "      <td>bug</td>\n",
       "      <td>3</td>\n",
       "    </tr>\n",
       "  </tbody>\n",
       "</table>\n",
       "<p>161 rows × 13 columns</p>\n",
       "</div>"
      ],
      "text/plain": [
       "     attack  base_egg_steps  base_happiness  base_total  capture_rate  \\\n",
       "697      59            7680              70         362            45   \n",
       "668      38            5120              70         303           225   \n",
       "63       35            5120              70         400           100   \n",
       "534      50            5120              70         294           255   \n",
       "66      100            5120              70         405            90   \n",
       "..      ...             ...             ...         ...           ...   \n",
       "799     107           30720               0         600             3   \n",
       "745     140            3840              70         620            60   \n",
       "513      98            5120              70         498            75   \n",
       "671      65            5120              70         350           200   \n",
       "264      45            3840              70         195           255   \n",
       "\n",
       "            classfication  defense  experience_growth  sp_attack  sp_defense  \\\n",
       "697        Tundra Pokémon       50            1000000         67          63   \n",
       "668  Single Bloom Pokémon       39            1000000         61          79   \n",
       "63            Psi Pokémon       30            1059860        120          70   \n",
       "534       Tadpole Pokémon       40            1059860         50          40   \n",
       "66     Superpower Pokémon       70            1059860         50          60   \n",
       "..                    ...      ...                ...        ...         ...   \n",
       "799         Prism Pokémon      101            1250000        127          89   \n",
       "745     Small Fry Pokémon      130             800000        140         135   \n",
       "513         Ember Pokémon       63            1000000         98          63   \n",
       "671         Mount Pokémon       48            1000000         62          57   \n",
       "264          Worm Pokémon       35            1000000         20          30   \n",
       "\n",
       "     speed     type1  generation  \n",
       "697     46      rock           6  \n",
       "668     42     fairy           6  \n",
       "63     105   psychic           1  \n",
       "534     64     water           5  \n",
       "66      45  fighting           1  \n",
       "..     ...       ...         ...  \n",
       "799     79   psychic           7  \n",
       "745     30     water           7  \n",
       "513    101      fire           5  \n",
       "671     52     grass           6  \n",
       "264     20       bug           3  \n",
       "\n",
       "[161 rows x 13 columns]"
      ]
     },
     "execution_count": 67,
     "metadata": {},
     "output_type": "execute_result"
    }
   ],
   "source": [
    "X_test"
   ]
  },
  {
   "cell_type": "markdown",
   "metadata": {},
   "source": [
    "#### 3.5.2 Column Transformer: Standard Scaler; OneHotEncoder"
   ]
  },
  {
   "cell_type": "code",
   "execution_count": 68,
   "metadata": {},
   "outputs": [],
   "source": [
    "preprocessor = ColumnTransformer(\n",
    "          transformers=[\n",
    "                    ('num', StandardScaler(), ['attack', 'base_egg_steps', 'base_happiness', 'base_total', 'capture_rate', 'defense', 'experience_growth', 'sp_attack', 'sp_defense', 'speed', 'generation']),\n",
    "                    ('cat', OneHotEncoder(handle_unknown='ignore'), ['classfication', 'type1'])\n",
    "          ]\n",
    ")"
   ]
  },
  {
   "cell_type": "code",
   "execution_count": 69,
   "metadata": {},
   "outputs": [],
   "source": [
    "# apply transformations on training data (features)\n",
    "X_train_standardised = preprocessor.fit_transform(X_train)\n",
    "\n",
    "# transform test\n",
    "X_test_standardised = preprocessor.transform(X_test)"
   ]
  },
  {
   "cell_type": "markdown",
   "metadata": {},
   "source": [
    "### 3.6 Logistic Regression "
   ]
  },
  {
   "cell_type": "code",
   "execution_count": 70,
   "metadata": {},
   "outputs": [],
   "source": [
    "# create a logistic regression object\n",
    "lgr = LogisticRegression(random_state=0)\n",
    "\n",
    "# train model \n",
    "model = lgr.fit(X_train_standardised, y_train)"
   ]
  },
  {
   "cell_type": "code",
   "execution_count": 71,
   "metadata": {},
   "outputs": [],
   "source": [
    "y_predict = model.predict(X_test_standardised)\n"
   ]
  },
  {
   "cell_type": "code",
   "execution_count": 72,
   "metadata": {},
   "outputs": [
    {
     "data": {
      "text/plain": [
       "array([0, 0, 0, 0, 0, 0, 0, 1, 0, 0, 0, 0, 1, 0, 0, 0, 1, 1, 0, 0, 0, 0,\n",
       "       0, 0, 0, 0, 0, 1, 0, 0, 0, 0, 0, 1, 0, 0, 0, 0, 0, 0, 0, 1, 0, 0,\n",
       "       0, 0, 0, 0, 0, 0, 0, 0, 0, 0, 0, 0, 0, 0, 0, 0, 1, 0, 0, 0, 0, 0,\n",
       "       0, 0, 0, 0, 0, 0, 1, 0, 0, 0, 0, 1, 0, 0, 0, 0, 0, 0, 0, 0, 1, 0,\n",
       "       0, 0, 0, 1, 0, 0, 0, 0, 0, 0, 0, 0, 0, 0, 0, 0, 0, 0, 0, 0, 0, 0,\n",
       "       0, 0, 0, 0, 0, 0, 0, 0, 0, 0, 0, 0, 0, 1, 0, 0, 0, 0, 0, 0, 0, 0,\n",
       "       0, 0, 0, 0, 0, 0, 0, 0, 0, 0, 1, 0, 0, 0, 0, 0, 0, 0, 1, 0, 0, 0,\n",
       "       0, 0, 1, 0, 0, 0, 0])"
      ]
     },
     "execution_count": 72,
     "metadata": {},
     "output_type": "execute_result"
    }
   ],
   "source": [
    "y_predict"
   ]
  },
  {
   "cell_type": "code",
   "execution_count": 83,
   "metadata": {},
   "outputs": [
    {
     "name": "stdout",
     "output_type": "stream",
     "text": [
      "ROC AUC: 0.9131701631701633\n"
     ]
    },
    {
     "data": {
      "text/plain": [
       "<function sklearn.metrics._ranking.roc_curve(y_true, y_score, *, pos_label=None, sample_weight=None, drop_intermediate=True)>"
      ]
     },
     "execution_count": 83,
     "metadata": {},
     "output_type": "execute_result"
    }
   ],
   "source": [
    "# ROC AUC Score\n",
    "\n",
    "from sklearn.metrics import RocCurveDisplay\n",
    "\n",
    "\n",
    "score = roc_auc_score(y_test, y_predict)\n",
    "\n",
    "print(f\"ROC AUC: {score}\")\n",
    "\n",
    "RocCurveDisplay()\n"
   ]
  },
  {
   "cell_type": "code",
   "execution_count": 75,
   "metadata": {},
   "outputs": [
    {
     "name": "stdout",
     "output_type": "stream",
     "text": [
      "Confussion matrix: [[142   1]\n",
      " [  3  15]]\n"
     ]
    }
   ],
   "source": [
    "\n",
    "cm = confusion_matrix(y_test, y_predict)\n",
    "\n",
    "print(f\"Confussion matrix: {cm}\")"
   ]
  },
  {
   "cell_type": "code",
   "execution_count": 78,
   "metadata": {},
   "outputs": [
    {
     "name": "stdout",
     "output_type": "stream",
     "text": [
      "accuracy: 0.9751552795031055\n"
     ]
    }
   ],
   "source": [
    "# Accuracy \n",
    "from sklearn.metrics import accuracy_score\n",
    "\n",
    "\n",
    "accuracy = accuracy_score(y_test, y_predict)\n",
    "\n",
    "print(f\"accuracy: {accuracy}\")"
   ]
  },
  {
   "cell_type": "markdown",
   "metadata": {},
   "source": [
    "## 4. Iris dataset - multiclass classifier "
   ]
  },
  {
   "cell_type": "code",
   "execution_count": 79,
   "metadata": {},
   "outputs": [],
   "source": [
    "from sklearn import datasets\n",
    "\n",
    "iris = datasets.load_iris()\n",
    "f = iris.data\n",
    "t = iris.target\n"
   ]
  },
  {
   "cell_type": "code",
   "execution_count": 80,
   "metadata": {},
   "outputs": [],
   "source": [
    "scaler = StandardScaler()\n",
    "f_standardised = scaler.fit_transform(f)\n"
   ]
  },
  {
   "cell_type": "code",
   "execution_count": 81,
   "metadata": {},
   "outputs": [],
   "source": [
    "# create a one-vs-rest logistic regression object\n",
    "lr_mc = LogisticRegression(random_state= 0, multi_class='ovr')"
   ]
  },
  {
   "cell_type": "code",
   "execution_count": 82,
   "metadata": {},
   "outputs": [
    {
     "name": "stderr",
     "output_type": "stream",
     "text": [
      "/Users/cat.barbosa/Library/CloudStorage/OneDrive-MCO/Projects/datascienceAlwaysLearning/.venv/lib/python3.11/site-packages/sklearn/linear_model/_logistic.py:1256: FutureWarning:\n",
      "\n",
      "'multi_class' was deprecated in version 1.5 and will be removed in 1.7. Use OneVsRestClassifier(LogisticRegression(..)) instead. Leave it to its default value to avoid this warning.\n",
      "\n"
     ]
    }
   ],
   "source": [
    "# train model \n",
    "model = lr_mc.fit(f_standardised, t)"
   ]
  }
 ],
 "metadata": {
  "kernelspec": {
   "display_name": ".venv",
   "language": "python",
   "name": "python3"
  },
  "language_info": {
   "codemirror_mode": {
    "name": "ipython",
    "version": 3
   },
   "file_extension": ".py",
   "mimetype": "text/x-python",
   "name": "python",
   "nbconvert_exporter": "python",
   "pygments_lexer": "ipython3",
   "version": "3.11.9"
  }
 },
 "nbformat": 4,
 "nbformat_minor": 2
}
